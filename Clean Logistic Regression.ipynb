{
 "cells": [
  {
   "cell_type": "code",
   "execution_count": 66,
   "metadata": {},
   "outputs": [
    {
     "name": "stdout",
     "output_type": "stream",
     "text": [
      "C:\\Users\\wolfg\\Desktop\\Uni\\UCL\\Econometrics\n"
     ]
    }
   ],
   "source": [
    "% cd C:\\Users\\wolfg\\Desktop\\Uni\\UCL\\Econometrics\n",
    "import numpy as np\n",
    "import scipy.io as sio\n",
    "import matplotlib.pyplot as plt\n",
    "from pylab import rcParams\n",
    "from matplotlib import colors as mcolors\n",
    "import pandas as pd\n",
    "from sklearn.preprocessing import StandardScaler"
   ]
  },
  {
   "cell_type": "code",
   "execution_count": 67,
   "metadata": {},
   "outputs": [],
   "source": [
    "x_data = sio.loadmat('x_data.mat')\n",
    "y_data = sio.loadmat('y_data.mat')"
   ]
  },
  {
   "cell_type": "code",
   "execution_count": 68,
   "metadata": {},
   "outputs": [],
   "source": [
    "X = x_data['x']\n",
    "y = y_data['y'].reshape(y_data['y'].shape[0]).astype(int)"
   ]
  },
  {
   "cell_type": "code",
   "execution_count": 69,
   "metadata": {},
   "outputs": [],
   "source": [
    "[m, n] = X.shape"
   ]
  },
  {
   "cell_type": "code",
   "execution_count": 70,
   "metadata": {},
   "outputs": [
    {
     "data": {
      "text/plain": [
       "<matplotlib.legend.Legend at 0x1f7ac794f98>"
      ]
     },
     "execution_count": 70,
     "metadata": {},
     "output_type": "execute_result"
    },
    {
     "data": {
      "image/png": "[encoded data removed]",
      "text/plain": [
       "<Figure size 432x288 with 1 Axes>"
      ]
     },
     "metadata": {},
     "output_type": "display_data"
    }
   ],
   "source": [
    "% matplotlib inline\n",
    "x0 = np.ones((np.array([x for x in y if x == 0]).shape[0], \n",
    "              X.shape[1]))\n",
    "x1 = np.ones((np.array([x for x in y if x == 1]).shape[0], \n",
    "              X.shape[1]))\n",
    "#x0 and x1 are matrices containing +ve and -ve examples from the\n",
    "#dataset, initialized to 1\n",
    "k0 = k1 = 0\n",
    "for i in range(0,y.shape[0]):\n",
    "    if y[i] == 0:\n",
    "        x0[k0] = X[i]\n",
    "        k0 = k0 + 1\n",
    "    else:\n",
    "        x1[k1] = X[i]\n",
    "        k1 = k1 + 1\n",
    "X_list = [x0, x1]\n",
    "colors = [\"green\", \"blue\"] # 2 distinct colours for 2 classes \n",
    "import matplotlib.pyplot as plt\n",
    "for x, c in zip(X_list, colors):\n",
    "    if c == \"green\":\n",
    "        plt.scatter(x[:,0],x[:,1],color = c,label = \"Not Admitted\")\n",
    "    else:\n",
    "        plt.scatter(x[:,0], x[:,1], color = c, label = \"Admitted\")\n",
    "plt.xlabel(\"Marks obtained in 1st Exam\")\n",
    "plt.ylabel(\"Marks obtained in 2nd Exam\")\n",
    "plt.legend()"
   ]
  },
  {
   "cell_type": "code",
   "execution_count": 71,
   "metadata": {},
   "outputs": [],
   "source": [
    "X = np.c_[np.ones((X.shape[0], 1)), X]"
   ]
  },
  {
   "cell_type": "code",
   "execution_count": 72,
   "metadata": {},
   "outputs": [],
   "source": [
    "def sigmoid(x):\n",
    "    # Activation function used to map any real value between 0 and 1\n",
    "    return 1 / (1 + np.exp(-x))"
   ]
  },
  {
   "cell_type": "code",
   "execution_count": 73,
   "metadata": {},
   "outputs": [],
   "source": [
    "# Newton's Method\n",
    "\n",
    "MAX_ITER = 10\n",
    "J = np.zeros((MAX_ITER,1))\n",
    "theta = np.zeros(n+1)\n",
    "\n",
    "\n",
    "for i in range(MAX_ITER):\n",
    "    \n",
    "    z = np.dot(X, theta)\n",
    "    h = sigmoid(z)\n",
    "    \n",
    "    grad = (1/m)*np.dot(X.T,(h-y))\n",
    "    \n",
    "    H = (1/m) * X.T @ np.diag(h) @ np.diag(1-h) @ X\n",
    "    \n",
    "    J[(i)] = (1/m)*sum(-y*np.log(h) - (1-y)*np.log(1-h))\n",
    "    \n",
    "    theta = theta - np.linalg.solve(H, grad)\n",
    "\n",
    "#for i in range(MAX_ITER):\n",
    "    \n",
    "#    z = np.dot(X, theta)\n",
    "#    h = sigmoid(z)\n",
    "    \n",
    "#    grad = (1/m)*np.dot(X.T,(h-y))\n",
    "    \n",
    "#    H = (1/m) * X.T @ np.diag(h) @ np.diag(1-h) @ X\n",
    "    \n",
    "#    J[(i)] = sum(y*np.log(h) + (1-y)*np.log(1-h))\n",
    "    \n",
    "#    theta = theta - np.linalg.solve(H, grad)"
   ]
  },
  {
   "cell_type": "code",
   "execution_count": 74,
   "metadata": {},
   "outputs": [
    {
     "data": {
      "text/plain": [
       "array([-16.37874341,   0.14834077,   0.15890845])"
      ]
     },
     "execution_count": 74,
     "metadata": {},
     "output_type": "execute_result"
    }
   ],
   "source": [
    "theta"
   ]
  },
  {
   "cell_type": "code",
   "execution_count": 75,
   "metadata": {},
   "outputs": [
    {
     "data": {
      "text/plain": [
       "[<matplotlib.lines.Line2D at 0x1f7ac90f400>]"
      ]
     },
     "execution_count": 75,
     "metadata": {},
     "output_type": "execute_result"
    },
    {
     "data": {
      "image/png": "[encoded data removed]",
      "text/plain": [
       "<Figure size 432x288 with 1 Axes>"
      ]
     },
     "metadata": {},
     "output_type": "display_data"
    }
   ],
   "source": [
    "plt.plot(range(len(J)),J)"
   ]
  },
  {
   "cell_type": "code",
   "execution_count": 76,
   "metadata": {},
   "outputs": [
    {
     "name": "stdout",
     "output_type": "stream",
     "text": [
      "0.0\n",
      "[[-16.07257721   0.1460184    0.15573279]]\n"
     ]
    }
   ],
   "source": [
    "from sklearn.linear_model import LogisticRegression\n",
    "clf = LogisticRegression(fit_intercept=False, C = 1000)\n",
    "result = clf.fit(X, y)\n",
    "predictions = result.predict(X)\n",
    "print(result.intercept_)\n",
    "print(result.coef_)"
   ]
  },
  {
   "cell_type": "code",
   "execution_count": 77,
   "metadata": {},
   "outputs": [
    {
     "data": {
      "text/plain": [
       "-32.439342004103395"
      ]
     },
     "execution_count": 77,
     "metadata": {},
     "output_type": "execute_result"
    }
   ],
   "source": [
    "from sklearn.metrics import log_loss\n",
    "-log_loss(np.array(y), result.predict_proba(X).T[1], normalize=False)"
   ]
  },
  {
   "cell_type": "code",
   "execution_count": 78,
   "metadata": {},
   "outputs": [],
   "source": [
    "data = pd.read_stata(\"LogisticRegression_data.dta\")\n",
    "data = pd.concat([data, pd.get_dummies(data['rank'])], axis = 1)\n",
    "data = data.drop(data.columns[3:5], axis=1)\n",
    "y = np.array(data.iloc[:,0]).astype(int)\n",
    "X = np.array(data.iloc[:,1:])\n",
    "[m, n] = X.shape\n",
    "X = np.c_[np.ones((X.shape[0], 1)), X]"
   ]
  },
  {
   "cell_type": "code",
   "execution_count": 79,
   "metadata": {},
   "outputs": [
    {
     "name": "stdout",
     "output_type": "stream",
     "text": [
      "[-3.98997938e+00  2.26442569e-03  8.04037654e-01 -6.75442930e-01\n",
      " -1.34020393e+00 -1.55146368e+00] [-229.25874543]\n"
     ]
    }
   ],
   "source": [
    "# Newton's Method as Gradient DESCENT\n",
    "\n",
    "MAX_ITER = 10\n",
    "J = np.zeros((MAX_ITER,1))\n",
    "theta = np.zeros(n+1)\n",
    "\n",
    "for i in range(MAX_ITER):\n",
    "    \n",
    "    z = np.dot(X, theta)\n",
    "    h = sigmoid(z)\n",
    "    \n",
    "    grad = (1/m)*np.dot(X.T,(h-y))\n",
    "    \n",
    "    H = (1/m) * X.T @ np.diag(h) @ np.diag(1-h) @ X\n",
    "    \n",
    "    J[(i)] = sum(y*np.log(h) + (1-y)*np.log(1-h))\n",
    "    \n",
    "    theta = theta - np.linalg.solve(H, grad)\n",
    "\n",
    "print(theta, J[-1])"
   ]
  },
  {
   "cell_type": "code",
   "execution_count": 80,
   "metadata": {},
   "outputs": [
    {
     "data": {
      "text/plain": [
       "[<matplotlib.lines.Line2D at 0x1f7ac968da0>]"
      ]
     },
     "execution_count": 80,
     "metadata": {},
     "output_type": "execute_result"
    },
    {
     "data": {
      "image/png": "[encoded data removed]",
      "text/plain": [
       "<Figure size 432x288 with 1 Axes>"
      ]
     },
     "metadata": {},
     "output_type": "display_data"
    }
   ],
   "source": [
    "plt.plot(range(MAX_ITER), J)"
   ]
  },
  {
   "cell_type": "code",
   "execution_count": 81,
   "metadata": {},
   "outputs": [
    {
     "name": "stdout",
     "output_type": "stream",
     "text": [
      "0.0\n",
      "[[-3.97300745e+00  2.25462584e-03  8.00527738e-01 -6.74666557e-01\n",
      "  -1.33709231e+00 -1.55029044e+00]]\n",
      "-229.25893493103598\n"
     ]
    }
   ],
   "source": [
    "# Logistic Regression without standardization\n",
    "\n",
    "clf = LogisticRegression(fit_intercept=False, C = 1000)\n",
    "result = clf.fit(X, y)\n",
    "predictions = result.predict(X)\n",
    "print(result.intercept_)\n",
    "print(result.coef_)\n",
    "print(-log_loss(np.array(y), result.predict_proba(X).T[1], normalize=False))"
   ]
  },
  {
   "cell_type": "code",
   "execution_count": 82,
   "metadata": {},
   "outputs": [
    {
     "name": "stdout",
     "output_type": "stream",
     "text": [
      "0.0\n",
      "[[ 0.0661837   0.2615805   0.30598638 -0.67517844 -1.33990112 -1.5510252 ]]\n",
      "-229.2587460763963\n"
     ]
    }
   ],
   "source": [
    "# Logistic Regression WITH standardization\n",
    "\n",
    "X.T[1] = (X.T[1] - np.mean(X.T[1]))/(np.std(X.T[1], ddof=1))\n",
    "X.T[2] = (X.T[2] - np.mean(X.T[2]))/(np.std(X.T[2], ddof=1))\n",
    "clf = LogisticRegression(fit_intercept=False, C = 1000)\n",
    "result = clf.fit(X, y)\n",
    "predictions = result.predict(X)\n",
    "print(result.intercept_)\n",
    "print(result.coef_)\n",
    "print(-log_loss(np.array(y), result.predict_proba(X).T[1], normalize=False))"
   ]
  },
  {
   "cell_type": "code",
   "execution_count": 83,
   "metadata": {},
   "outputs": [
    {
     "data": {
      "text/plain": [
       "array([[0.8273663 , 0.1726337 ],\n",
       "       [0.70781383, 0.29218617],\n",
       "       [0.26163995, 0.73836005],\n",
       "       [0.82158694, 0.17841306],\n",
       "       [0.88162578, 0.11837422],\n",
       "       [0.6300245 , 0.3699755 ],\n",
       "       [0.58081318, 0.41918682],\n",
       "       [0.7829938 , 0.2170062 ],\n",
       "       [0.799256  , 0.200744  ],\n",
       "       [0.48212825, 0.51787175],\n",
       "       [0.62564134, 0.37435866],\n",
       "       [0.59985926, 0.40014074],\n",
       "       [0.27951179, 0.72048821],\n",
       "       [0.64654035, 0.35345965],\n",
       "       [0.30767359, 0.69232641],\n",
       "       [0.81416683, 0.18583317],\n",
       "       [0.66001824, 0.33998176],\n",
       "       [0.92104231, 0.07895769],\n",
       "       [0.45976796, 0.54023204],\n",
       "       [0.4265498 , 0.5734502 ],\n",
       "       [0.83877136, 0.16122864],\n",
       "       [0.5627249 , 0.4372751 ],\n",
       "       [0.87160272, 0.12839728],\n",
       "       [0.80792118, 0.19207882],\n",
       "       [0.56240101, 0.43759899],\n",
       "       [0.31775834, 0.68224166],\n",
       "       [0.42157976, 0.57842024],\n",
       "       [0.79521535, 0.20478465],\n",
       "       [0.57692111, 0.42307889],\n",
       "       [0.54176284, 0.45823716],\n",
       "       [0.78231426, 0.21768574],\n",
       "       [0.71415184, 0.28584816],\n",
       "       [0.77517108, 0.22482892],\n",
       "       [0.5750386 , 0.4249614 ],\n",
       "       [0.65709075, 0.34290925],\n",
       "       [0.7870643 , 0.2129357 ],\n",
       "       [0.51592862, 0.48407138],\n",
       "       [0.8606757 , 0.1393243 ],\n",
       "       [0.73430064, 0.26569936],\n",
       "       [0.88056586, 0.11943414],\n",
       "       [0.81023634, 0.18976366],\n",
       "       [0.664326  , 0.335674  ],\n",
       "       [0.68439166, 0.31560834],\n",
       "       [0.82296276, 0.17703724],\n",
       "       [0.67182041, 0.32817959],\n",
       "       [0.81973669, 0.18026331],\n",
       "       [0.63877899, 0.36122101],\n",
       "       [0.88298896, 0.11701104],\n",
       "       [0.92763293, 0.07236707],\n",
       "       [0.84951907, 0.15048093],\n",
       "       [0.68510084, 0.31489916],\n",
       "       [0.88373307, 0.11626693],\n",
       "       [0.76059917, 0.23940083],\n",
       "       [0.62161053, 0.37838947],\n",
       "       [0.75953271, 0.24046729],\n",
       "       [0.60785516, 0.39214484],\n",
       "       [0.81715166, 0.18284834],\n",
       "       [0.89146314, 0.10853686],\n",
       "       [0.69527606, 0.30472394],\n",
       "       [0.87160272, 0.12839728],\n",
       "       [0.669211  , 0.330789  ],\n",
       "       [0.83254438, 0.16745562],\n",
       "       [0.71709127, 0.28290873],\n",
       "       [0.66702857, 0.33297143],\n",
       "       [0.69010625, 0.30989375],\n",
       "       [0.60354454, 0.39645546],\n",
       "       [0.72211162, 0.27788838],\n",
       "       [0.48324552, 0.51675448],\n",
       "       [0.42799496, 0.57200504],\n",
       "       [0.30568413, 0.69431587],\n",
       "       [0.6603265 , 0.3396735 ],\n",
       "       [0.92512676, 0.07487324],\n",
       "       [0.84923856, 0.15076144],\n",
       "       [0.53392117, 0.46607883],\n",
       "       [0.75711622, 0.24288378],\n",
       "       [0.61859623, 0.38140377],\n",
       "       [0.79583818, 0.20416182],\n",
       "       [0.5750386 , 0.4249614 ],\n",
       "       [0.56435049, 0.43564951],\n",
       "       [0.34754167, 0.65245833],\n",
       "       [0.83540627, 0.16459373],\n",
       "       [0.6884884 , 0.3115116 ],\n",
       "       [0.79482276, 0.20517724],\n",
       "       [0.91221773, 0.08778227],\n",
       "       [0.78640375, 0.21359625],\n",
       "       [0.74873342, 0.25126658],\n",
       "       [0.65415276, 0.34584724],\n",
       "       [0.62450148, 0.37549852],\n",
       "       [0.44222969, 0.55777031],\n",
       "       [0.48868644, 0.51131356],\n",
       "       [0.5002113 , 0.4997887 ],\n",
       "       [0.3619624 , 0.6380376 ],\n",
       "       [0.42999266, 0.57000734],\n",
       "       [0.73031147, 0.26968853],\n",
       "       [0.59988686, 0.40011314],\n",
       "       [0.62091575, 0.37908425],\n",
       "       [0.77933704, 0.22066296],\n",
       "       [0.6699745 , 0.3300255 ],\n",
       "       [0.68236716, 0.31763284],\n",
       "       [0.85358438, 0.14641562],\n",
       "       [0.88365491, 0.11634509],\n",
       "       [0.75884327, 0.24115673],\n",
       "       [0.881146  , 0.118854  ],\n",
       "       [0.7189856 , 0.2810144 ],\n",
       "       [0.49873485, 0.50126515],\n",
       "       [0.64605237, 0.35394763],\n",
       "       [0.38763943, 0.61236057],\n",
       "       [0.74304239, 0.25695761],\n",
       "       [0.88780619, 0.11219381],\n",
       "       [0.69094757, 0.30905243],\n",
       "       [0.82127385, 0.17872615],\n",
       "       [0.86394236, 0.13605764],\n",
       "       [0.8911771 , 0.1088229 ],\n",
       "       [0.5106404 , 0.4893596 ],\n",
       "       [0.64845133, 0.35154867],\n",
       "       [0.67218379, 0.32781621],\n",
       "       [0.70994783, 0.29005217],\n",
       "       [0.52230723, 0.47769277],\n",
       "       [0.31082742, 0.68917258],\n",
       "       [0.90136041, 0.09863959],\n",
       "       [0.61793847, 0.38206153],\n",
       "       [0.80716526, 0.19283474],\n",
       "       [0.86542686, 0.13457314],\n",
       "       [0.85837764, 0.14162236],\n",
       "       [0.64108523, 0.35891477],\n",
       "       [0.83213229, 0.16786771],\n",
       "       [0.44652507, 0.55347493],\n",
       "       [0.7023423 , 0.2976577 ],\n",
       "       [0.70635239, 0.29364761],\n",
       "       [0.87727743, 0.12272257],\n",
       "       [0.67098843, 0.32901157],\n",
       "       [0.72569733, 0.27430267],\n",
       "       [0.64983413, 0.35016587],\n",
       "       [0.84831903, 0.15168097],\n",
       "       [0.73602539, 0.26397461],\n",
       "       [0.7904274 , 0.2095726 ],\n",
       "       [0.83142045, 0.16857955],\n",
       "       [0.62922256, 0.37077744],\n",
       "       [0.6289541 , 0.3710459 ],\n",
       "       [0.43859109, 0.56140891],\n",
       "       [0.51407348, 0.48592652],\n",
       "       [0.75508898, 0.24491102],\n",
       "       [0.72500071, 0.27499929],\n",
       "       [0.78296559, 0.21703441],\n",
       "       [0.81670139, 0.18329861],\n",
       "       [0.84706966, 0.15293034],\n",
       "       [0.6994656 , 0.3005344 ],\n",
       "       [0.86796692, 0.13203308],\n",
       "       [0.63727348, 0.36272652],\n",
       "       [0.41415467, 0.58584533],\n",
       "       [0.30398032, 0.69601968],\n",
       "       [0.73923385, 0.26076615],\n",
       "       [0.51206479, 0.48793521],\n",
       "       [0.77465605, 0.22534395],\n",
       "       [0.72297904, 0.27702096],\n",
       "       [0.87306471, 0.12693529],\n",
       "       [0.79756489, 0.20243511],\n",
       "       [0.50621244, 0.49378756],\n",
       "       [0.59020003, 0.40979997],\n",
       "       [0.66231061, 0.33768939],\n",
       "       [0.68785472, 0.31214528],\n",
       "       [0.59917792, 0.40082208],\n",
       "       [0.55426857, 0.44573143],\n",
       "       [0.78463351, 0.21536649],\n",
       "       [0.66790239, 0.33209761],\n",
       "       [0.30767359, 0.69232641],\n",
       "       [0.87433274, 0.12566726],\n",
       "       [0.66117184, 0.33882816],\n",
       "       [0.72745957, 0.27254043],\n",
       "       [0.74285448, 0.25714552],\n",
       "       [0.83232416, 0.16767584],\n",
       "       [0.86389061, 0.13610939],\n",
       "       [0.72953536, 0.27046464],\n",
       "       [0.52398461, 0.47601539],\n",
       "       [0.82789602, 0.17210398],\n",
       "       [0.63456551, 0.36543449],\n",
       "       [0.79920272, 0.20079728],\n",
       "       [0.79069835, 0.20930165],\n",
       "       [0.7770812 , 0.2229188 ],\n",
       "       [0.90296812, 0.09703188],\n",
       "       [0.70825511, 0.29174489],\n",
       "       [0.78404203, 0.21595797],\n",
       "       [0.46609221, 0.53390779],\n",
       "       [0.58785756, 0.41214244],\n",
       "       [0.89713321, 0.10286679],\n",
       "       [0.48983327, 0.51016673],\n",
       "       [0.76123748, 0.23876252],\n",
       "       [0.73815571, 0.26184429],\n",
       "       [0.71685784, 0.28314216],\n",
       "       [0.6983951 , 0.3016049 ],\n",
       "       [0.70104869, 0.29895131],\n",
       "       [0.66201614, 0.33798386],\n",
       "       [0.70218331, 0.29781669],\n",
       "       [0.85745124, 0.14254876],\n",
       "       [0.62638502, 0.37361498],\n",
       "       [0.62500192, 0.37499808],\n",
       "       [0.79692851, 0.20307149],\n",
       "       [0.88477446, 0.11522554],\n",
       "       [0.74131558, 0.25868442],\n",
       "       [0.76793127, 0.23206873],\n",
       "       [0.70207914, 0.29792086],\n",
       "       [0.68548953, 0.31451047],\n",
       "       [0.30767359, 0.69232641],\n",
       "       [0.80820259, 0.19179741],\n",
       "       [0.37845036, 0.62154964],\n",
       "       [0.62446259, 0.37553741],\n",
       "       [0.3701105 , 0.6298895 ],\n",
       "       [0.4066911 , 0.5933089 ],\n",
       "       [0.82729513, 0.17270487],\n",
       "       [0.6313255 , 0.3686745 ],\n",
       "       [0.76496364, 0.23503636],\n",
       "       [0.71582408, 0.28417592],\n",
       "       [0.78854517, 0.21145483],\n",
       "       [0.76192219, 0.23807781],\n",
       "       [0.60930148, 0.39069852],\n",
       "       [0.81695489, 0.18304511],\n",
       "       [0.70860363, 0.29139637],\n",
       "       [0.50547429, 0.49452571],\n",
       "       [0.63472855, 0.36527145],\n",
       "       [0.62500192, 0.37499808],\n",
       "       [0.81307168, 0.18692832],\n",
       "       [0.64157626, 0.35842374],\n",
       "       [0.61659173, 0.38340827],\n",
       "       [0.6744922 , 0.3255078 ],\n",
       "       [0.62764966, 0.37235034],\n",
       "       [0.70798304, 0.29201696],\n",
       "       [0.59459829, 0.40540171],\n",
       "       [0.86878579, 0.13121421],\n",
       "       [0.69437081, 0.30562919],\n",
       "       [0.57082251, 0.42917749],\n",
       "       [0.82957245, 0.17042755],\n",
       "       [0.79153905, 0.20846095],\n",
       "       [0.74786902, 0.25213098],\n",
       "       [0.90311141, 0.09688859],\n",
       "       [0.34083642, 0.65916358],\n",
       "       [0.69192673, 0.30807327],\n",
       "       [0.59020003, 0.40979997],\n",
       "       [0.58960619, 0.41039381],\n",
       "       [0.89182191, 0.10817809],\n",
       "       [0.72533839, 0.27466161],\n",
       "       [0.8099846 , 0.1900154 ],\n",
       "       [0.43766275, 0.56233725],\n",
       "       [0.80382289, 0.19617711],\n",
       "       [0.66205324, 0.33794676],\n",
       "       [0.58009409, 0.41990591],\n",
       "       [0.59261863, 0.40738137],\n",
       "       [0.60828472, 0.39171528],\n",
       "       [0.75403667, 0.24596333],\n",
       "       [0.70341682, 0.29658318],\n",
       "       [0.70720278, 0.29279722],\n",
       "       [0.79985114, 0.20014886],\n",
       "       [0.82582821, 0.17417179],\n",
       "       [0.56752491, 0.43247509],\n",
       "       [0.81216362, 0.18783638],\n",
       "       [0.73795429, 0.26204571],\n",
       "       [0.76626998, 0.23373002],\n",
       "       [0.6973224 , 0.3026776 ],\n",
       "       [0.67923094, 0.32076906],\n",
       "       [0.66054721, 0.33945279],\n",
       "       [0.53812393, 0.46187607],\n",
       "       [0.65136265, 0.34863735],\n",
       "       [0.75700686, 0.24299314],\n",
       "       [0.83029865, 0.16970135],\n",
       "       [0.67923094, 0.32076906],\n",
       "       [0.73436546, 0.26563454],\n",
       "       [0.85621016, 0.14378984],\n",
       "       [0.84132105, 0.15867895],\n",
       "       [0.73977073, 0.26022927],\n",
       "       [0.58507065, 0.41492935],\n",
       "       [0.8741944 , 0.1258056 ],\n",
       "       [0.51005571, 0.48994429],\n",
       "       [0.80688459, 0.19311541],\n",
       "       [0.54358371, 0.45641629],\n",
       "       [0.45668355, 0.54331645],\n",
       "       [0.72697024, 0.27302976],\n",
       "       [0.71314608, 0.28685392],\n",
       "       [0.77855676, 0.22144324],\n",
       "       [0.4497717 , 0.5502283 ],\n",
       "       [0.83052098, 0.16947902],\n",
       "       [0.65615411, 0.34384589],\n",
       "       [0.50074492, 0.49925508],\n",
       "       [0.86826834, 0.13173166],\n",
       "       [0.78122172, 0.21877828],\n",
       "       [0.86660077, 0.13339923],\n",
       "       [0.71978035, 0.28021965],\n",
       "       [0.82071964, 0.17928036],\n",
       "       [0.3988353 , 0.6011647 ],\n",
       "       [0.74493778, 0.25506222],\n",
       "       [0.7679883 , 0.2320117 ],\n",
       "       [0.94120254, 0.05879746],\n",
       "       [0.61952466, 0.38047534],\n",
       "       [0.649907  , 0.350093  ],\n",
       "       [0.53759332, 0.46240668],\n",
       "       [0.26632643, 0.73367357],\n",
       "       [0.70119607, 0.29880393],\n",
       "       [0.82339256, 0.17660744],\n",
       "       [0.54522291, 0.45477709],\n",
       "       [0.76049088, 0.23950912],\n",
       "       [0.65214589, 0.34785411],\n",
       "       [0.72432369, 0.27567631],\n",
       "       [0.63711093, 0.36288907],\n",
       "       [0.71931615, 0.28068385],\n",
       "       [0.77327848, 0.22672152],\n",
       "       [0.48139104, 0.51860896],\n",
       "       [0.92801086, 0.07198914],\n",
       "       [0.809369  , 0.190631  ],\n",
       "       [0.55444228, 0.44555772],\n",
       "       [0.62945213, 0.37054787],\n",
       "       [0.71625807, 0.28374193],\n",
       "       [0.87410438, 0.12589562],\n",
       "       [0.6997074 , 0.3002926 ],\n",
       "       [0.55479585, 0.44520415],\n",
       "       [0.69091216, 0.30908784],\n",
       "       [0.80674802, 0.19325198],\n",
       "       [0.82295433, 0.17704567],\n",
       "       [0.84587529, 0.15412471],\n",
       "       [0.81508371, 0.18491629],\n",
       "       [0.70189584, 0.29810416],\n",
       "       [0.81326287, 0.18673713],\n",
       "       [0.53250233, 0.46749767],\n",
       "       [0.85368659, 0.14631341],\n",
       "       [0.67815773, 0.32184227],\n",
       "       [0.87962495, 0.12037505],\n",
       "       [0.82512751, 0.17487249],\n",
       "       [0.8788643 , 0.1211357 ],\n",
       "       [0.33507352, 0.66492648],\n",
       "       [0.61401684, 0.38598316],\n",
       "       [0.64549084, 0.35450916],\n",
       "       [0.66073067, 0.33926933],\n",
       "       [0.88627112, 0.11372888],\n",
       "       [0.60785516, 0.39214484],\n",
       "       [0.72093662, 0.27906338],\n",
       "       [0.659084  , 0.340916  ],\n",
       "       [0.78654114, 0.21345886],\n",
       "       [0.79605195, 0.20394805],\n",
       "       [0.40210676, 0.59789324],\n",
       "       [0.83478222, 0.16521778],\n",
       "       [0.83927291, 0.16072709],\n",
       "       [0.54847602, 0.45152398],\n",
       "       [0.73992823, 0.26007177],\n",
       "       [0.85960307, 0.14039693],\n",
       "       [0.87339797, 0.12660203],\n",
       "       [0.77436014, 0.22563986],\n",
       "       [0.70923671, 0.29076329],\n",
       "       [0.81139513, 0.18860487],\n",
       "       [0.85341978, 0.14658022],\n",
       "       [0.64867564, 0.35132436],\n",
       "       [0.57363538, 0.42636462],\n",
       "       [0.74232174, 0.25767826],\n",
       "       [0.72510915, 0.27489085],\n",
       "       [0.42140826, 0.57859174],\n",
       "       [0.76284381, 0.23715619],\n",
       "       [0.81878849, 0.18121151],\n",
       "       [0.5621996 , 0.4378004 ],\n",
       "       [0.59949402, 0.40050598],\n",
       "       [0.5024772 , 0.4975228 ],\n",
       "       [0.61090095, 0.38909905],\n",
       "       [0.42518412, 0.57481588],\n",
       "       [0.74935093, 0.25064907],\n",
       "       [0.62991119, 0.37008881],\n",
       "       [0.40049128, 0.59950872],\n",
       "       [0.49033794, 0.50966206],\n",
       "       [0.64586522, 0.35413478],\n",
       "       [0.70221798, 0.29778202],\n",
       "       [0.50514529, 0.49485471],\n",
       "       [0.88163182, 0.11836818],\n",
       "       [0.87354345, 0.12645655],\n",
       "       [0.73253623, 0.26746377],\n",
       "       [0.36835392, 0.63164608],\n",
       "       [0.43196442, 0.56803558],\n",
       "       [0.60142294, 0.39857706],\n",
       "       [0.6829016 , 0.3170984 ],\n",
       "       [0.62354797, 0.37645203],\n",
       "       [0.46920779, 0.53079221],\n",
       "       [0.58857278, 0.41142722],\n",
       "       [0.81261366, 0.18738634],\n",
       "       [0.58487198, 0.41512802],\n",
       "       [0.41040682, 0.58959318],\n",
       "       [0.79775059, 0.20224941],\n",
       "       [0.78103491, 0.21896509],\n",
       "       [0.5363284 , 0.4636716 ],\n",
       "       [0.6539676 , 0.3460324 ],\n",
       "       [0.65031972, 0.34968028],\n",
       "       [0.32729601, 0.67270399],\n",
       "       [0.81334547, 0.18665453],\n",
       "       [0.64816278, 0.35183722],\n",
       "       [0.47156738, 0.52843262],\n",
       "       [0.6571167 , 0.3428833 ],\n",
       "       [0.66091404, 0.33908596],\n",
       "       [0.5972454 , 0.4027546 ],\n",
       "       [0.5990583 , 0.4009417 ],\n",
       "       [0.51280253, 0.48719747],\n",
       "       [0.77796121, 0.22203879],\n",
       "       [0.5612712 , 0.4387288 ],\n",
       "       [0.74656767, 0.25343233],\n",
       "       [0.51132699, 0.48867301],\n",
       "       [0.83448762, 0.16551238],\n",
       "       [0.81893444, 0.18106556],\n",
       "       [0.5363284 , 0.4636716 ],\n",
       "       [0.69925868, 0.30074132]])"
      ]
     },
     "execution_count": 83,
     "metadata": {},
     "output_type": "execute_result"
    }
   ],
   "source": [
    "result.predict_proba(X)"
   ]
  },
  {
   "cell_type": "code",
   "execution_count": 84,
   "metadata": {},
   "outputs": [
    {
     "name": "stdout",
     "output_type": "stream",
     "text": [
      "[-3.98997938e+00  2.26442569e-03  8.04037654e-01 -6.75442930e-01\n",
      " -1.34020393e+00 -1.55146368e+00] [-229.25874543]\n"
     ]
    }
   ],
   "source": [
    "# Newton's method as Gradient ASCENT without standardized data!\n",
    "\n",
    "data = pd.read_stata(\"LogisticRegression_data.dta\")\n",
    "data = pd.concat([data, pd.get_dummies(data['rank'])], axis = 1)\n",
    "data = data.drop(data.columns[3:5], axis=1)\n",
    "y = np.array(data.iloc[:,0]).astype(int)\n",
    "X = np.array(data.iloc[:,1:])\n",
    "[m, n] = X.shape\n",
    "X = np.c_[np.ones((X.shape[0], 1)), X]\n",
    "\n",
    "MAX_ITER = 10\n",
    "J = np.zeros((MAX_ITER,1))\n",
    "theta = np.zeros(n+1)\n",
    "\n",
    "for i in range(MAX_ITER):\n",
    "    \n",
    "    z = np.dot(X, theta)\n",
    "    h = sigmoid(z)\n",
    "    \n",
    "    grad = (1/m)*np.dot(X.T,(y-h))\n",
    "    \n",
    "    H = (1/m) * X.T @ np.diag(h) @ np.diag(1-h) @ X\n",
    "    \n",
    "    J[(i)] = sum(y*np.log(h) + (1-y)*np.log(1-h))\n",
    "    \n",
    "    theta = theta + np.linalg.solve(H, grad) # same as theta + inv(H)*grad\n",
    "\n",
    "print(theta, J[-1])"
   ]
  },
  {
   "cell_type": "code",
   "execution_count": 85,
   "metadata": {},
   "outputs": [
    {
     "name": "stdout",
     "output_type": "stream",
     "text": [
      "[340412.65957447 110631.0385816   -6649.48596807]\n"
     ]
    },
    {
     "data": {
      "text/plain": [
       "<matplotlib.legend.Legend at 0x1f7ac86eda0>"
      ]
     },
     "execution_count": 85,
     "metadata": {},
     "output_type": "execute_result"
    },
    {
     "data": {
      "image/png": "[encoded data removed]",
      "text/plain": [
       "<Figure size 432x288 with 1 Axes>"
      ]
     },
     "metadata": {},
     "output_type": "display_data"
    }
   ],
   "source": [
    "# Linear regression as Gradient Descent, incl. standardization of continuous variables\n",
    "\n",
    "x_data = sio.loadmat('x_data3.mat')\n",
    "y_data = sio.loadmat('y_data3.mat')\n",
    "X = x_data['x'].astype(float)\n",
    "y = y_data['y'].reshape(y_data['y'].shape[0]).astype(float)\n",
    "X.T[1] = (X.T[1] - np.mean(X.T[1]))/(np.std(X.T[1], ddof=1)) # we have to tell numpy to apply the DF correction, otherwise\n",
    "X.T[2] = (X.T[2] - np.mean(X.T[2]))/(np.std(X.T[2], ddof=1)) # it would only divide sum by N\n",
    "\n",
    "m = len(y)\n",
    "MAX_ITER = 1000\n",
    "\n",
    "theta_grad_descent = np.zeros(X.shape[1])\n",
    "alpha = [0.01, 0.03, 0.1, 0.3, 1, 1.3]\n",
    "J_list = []\n",
    "\n",
    "for i in range(len(alpha)):\n",
    "    \n",
    "    theta = np.zeros(X.shape[1]).T\n",
    "    J = np.zeros((MAX_ITER,1))\n",
    "\n",
    "\n",
    "    for j in range(MAX_ITER):\n",
    "        \n",
    "        loss = (0.5/m) * (X @ theta - y).T @ (X @ theta - y)\n",
    "        # print(loss)\n",
    "        J[(j)] = loss\n",
    "        grad = (1/m) * (X.T @ ((X @ theta) - y))\n",
    "    \n",
    "        theta = theta - alpha[i] * grad\n",
    "        \n",
    "    J_list.append(J)\n",
    "\n",
    "print(theta)\n",
    "\n",
    "for idx, i in enumerate(J_list):\n",
    "    \n",
    "    plt.plot(range(500), i[:500], label = alpha[idx])\n",
    "\n",
    "plt.legend()\n",
    "\n",
    "# best learning rate = 1"
   ]
  },
  {
   "cell_type": "code",
   "execution_count": 108,
   "metadata": {},
   "outputs": [
    {
     "name": "stdout",
     "output_type": "stream",
     "text": [
      "[ 0.06638933  0.26157946  0.30599013 -0.67539742 -1.34015547 -1.55140317]\n"
     ]
    },
    {
     "data": {
      "text/plain": [
       "<matplotlib.legend.Legend at 0x1f7aca38d30>"
      ]
     },
     "execution_count": 108,
     "metadata": {},
     "output_type": "execute_result"
    },
    {
     "data": {
      "image/png": "[encoded data removed]",
      "text/plain": [
       "<Figure size 432x288 with 1 Axes>"
      ]
     },
     "metadata": {},
     "output_type": "display_data"
    }
   ],
   "source": [
    "# Logistic regression as Gradient Ascent, incl. standardization\n",
    "\n",
    "def sigmoid(x):\n",
    "    # Activation function used to map any real value between 0 and 1\n",
    "    return 1 / (1 + np.exp(-x))\n",
    "\n",
    "data = pd.read_stata(\"LogisticRegression_data.dta\")\n",
    "data = pd.concat([data, pd.get_dummies(data['rank'])], axis = 1)\n",
    "data = data.drop(data.columns[3:5], axis=1)\n",
    "y = np.array(data.iloc[:,0]).astype(int)\n",
    "X = np.array(data.iloc[:,1:])\n",
    "[m, n] = X.shape\n",
    "X = np.c_[np.ones((X.shape[0], 1)), X]\n",
    "\n",
    "X.T[1] = (X.T[1] - np.mean(X.T[1]))/(np.std(X.T[1], ddof=1))\n",
    "X.T[2] = (X.T[2] - np.mean(X.T[2]))/(np.std(X.T[2], ddof=1))\n",
    "\n",
    "m = len(y)\n",
    "MAX_ITER = 1000\n",
    "\n",
    "theta_grad_descent = np.zeros(X.shape[1])\n",
    "alpha = [0.01, 0.03, 0.1, 0.3, 1, 1.3]\n",
    "\n",
    "J_list = []\n",
    "\n",
    "for i in range(len(alpha)):\n",
    "    \n",
    "    theta = np.zeros(X.shape[1]).T\n",
    "    \n",
    "    J = np.zeros((MAX_ITER,1))\n",
    "\n",
    "    for j in range(MAX_ITER):\n",
    "        \n",
    "        z = np.dot(X, theta)\n",
    "                \n",
    "        h = sigmoid(z) # this gives the probability that the observation is 1\n",
    "        \n",
    "        #if i == 0 and j == 1:\n",
    "            \n",
    "            #print(h)\n",
    "    \n",
    "        grad = (1/m)*np.dot(X.T,(y-h))\n",
    "        \n",
    "        loglikelihood = sum(y*np.log(h) + (1-y)*np.log(1-h))\n",
    "        \n",
    "        #print(alpha[i], j, loglikelihood)\n",
    "        \n",
    "        J[(j)] = loglikelihood    \n",
    "    \n",
    "        theta = theta + alpha[i] * grad\n",
    "        \n",
    "    J_list.append(J)\n",
    "\n",
    "print(theta)\n",
    "\n",
    "for idx, i in enumerate(J_list):\n",
    "    \n",
    "    plt.plot(range(500), i[:500], label = alpha[idx])\n",
    "\n",
    "plt.legend()"
   ]
  },
  {
   "cell_type": "code",
   "execution_count": 109,
   "metadata": {},
   "outputs": [
    {
     "data": {
      "text/plain": [
       "array([0.17262732, 0.29217653, 0.73840057, 0.17838744, 0.11835583])"
      ]
     },
     "execution_count": 109,
     "metadata": {},
     "output_type": "execute_result"
    }
   ],
   "source": [
    "sigmoid(np.dot(X, theta))[:5] # y_hat"
   ]
  },
  {
   "cell_type": "code",
   "execution_count": 120,
   "metadata": {},
   "outputs": [],
   "source": [
    "data = pd.read_stata(\"LogisticRegression_data.dta\")\n",
    "data = pd.concat([data, pd.get_dummies(data['rank'])], axis = 1)\n",
    "data = data.drop(data.columns[3:5], axis=1)\n",
    "y = np.array(data.iloc[:,0]).astype(int)\n",
    "X = np.array(data.iloc[:,1:])\n",
    "[m, n] = X.shape\n",
    "X = np.c_[np.ones((X.shape[0], 1)), X]\n",
    "\n",
    "beta1_mean, beta1_std = X.T[1].mean(), np.std(X.T[1], ddof = 1)\n",
    "beta2_mean, beta2_std = X.T[2].mean(), np.std(X.T[2], ddof = 1)"
   ]
  },
  {
   "cell_type": "code",
   "execution_count": 126,
   "metadata": {},
   "outputs": [],
   "source": [
    "intercept_unstandardized = theta[0] - (theta[1]*beta1_mean/beta1_std + theta[2]*beta2_mean/beta2_std)\n",
    "theta1_unstandardized = theta[1]/beta1_std\n",
    "theta2_unstandardized = theta[2]/beta2_std"
   ]
  },
  {
   "cell_type": "code",
   "execution_count": 201,
   "metadata": {},
   "outputs": [
    {
     "name": "stdout",
     "output_type": "stream",
     "text": [
      "[-1.82820679e-03 -9.75314081e-01 -5.88202885e-03 -5.38686027e-04\n",
      " -8.13498425e-04 -5.38050805e-04]\n"
     ]
    }
   ],
   "source": [
    "# Logistic regression as Gradient Ascent, WITHOUT standardization --> vanishing gradient problem!\n",
    "\n",
    "from scipy.special import expit\n",
    "\n",
    "def sigmoid(x):\n",
    "    \n",
    "    # tanh = (np.exp(x) - np.exp(-x))/(np.exp(x) + np.exp(-x))\n",
    "    \n",
    "    return 1/(1+expit(-x))\n",
    "\n",
    "def relu(x):\n",
    "    \n",
    "    return np.maximum(0,x)\n",
    "\n",
    "data = pd.read_stata(\"LogisticRegression_data.dta\")\n",
    "data = pd.concat([data, pd.get_dummies(data['rank'])], axis = 1)\n",
    "data = data.drop(data.columns[3:5], axis=1)\n",
    "y = np.array(data.iloc[:,0]).astype(int)\n",
    "X = np.array(data.iloc[:,1:])\n",
    "[m, n] = X.shape\n",
    "X = np.c_[np.ones((X.shape[0], 1)), X]\n",
    "\n",
    "#X.T[1] = (X.T[1] - np.mean(X.T[1]))/(np.std(X.T[1], ddof=1))\n",
    "#X.T[2] = (X.T[2] - np.mean(X.T[2]))/(np.std(X.T[2], ddof=1))\n",
    "\n",
    "m = len(y)\n",
    "MAX_ITER = 1000\n",
    "\n",
    "theta_grad_descent = np.zeros(X.shape[1])\n",
    "alpha = [0.000001, 0.00001]\n",
    "J_list = []\n",
    "\n",
    "for i in range(len(alpha)):\n",
    "    \n",
    "    theta = np.zeros(X.shape[1]).T\n",
    "    \n",
    "    J = np.zeros((MAX_ITER,1))\n",
    "\n",
    "    for j in range(MAX_ITER):\n",
    "        \n",
    "        z = np.dot(X, theta)\n",
    "                \n",
    "        h = sigmoid(z)\n",
    "        \n",
    "        #if i == 0 and j == 1:\n",
    "            \n",
    "            #print(h)\n",
    "    \n",
    "        grad = (1/m)*np.dot(X.T,(y-h))\n",
    "        \n",
    "        loglikelihood = sum(y*np.log(h) + (1-y)*np.log(1-h))\n",
    "        \n",
    "        #print(alpha[i], j, loglikelihood)\n",
    "        \n",
    "        J[(j)] = loglikelihood    \n",
    "    \n",
    "        theta = theta + alpha[i] * grad\n",
    "        \n",
    "    J_list.append(J)\n",
    "\n",
    "print(theta)"
   ]
  },
  {
   "cell_type": "code",
   "execution_count": 202,
   "metadata": {},
   "outputs": [
    {
     "data": {
      "text/plain": [
       "<matplotlib.legend.Legend at 0x1457230fdd8>"
      ]
     },
     "execution_count": 202,
     "metadata": {},
     "output_type": "execute_result"
    },
    {
     "data": {
      "image/png": "[encoded data removed]",
      "text/plain": [
       "<Figure size 432x288 with 1 Axes>"
      ]
     },
     "metadata": {},
     "output_type": "display_data"
    }
   ],
   "source": [
    "for idx, i in enumerate(J_list):\n",
    "    \n",
    "    plt.plot(range(1000), i[:1000], label = alpha[idx])\n",
    "\n",
    "plt.legend()"
   ]
  },
  {
   "cell_type": "code",
   "execution_count": 200,
   "metadata": {},
   "outputs": [],
   "source": [
    "data.to_csv(\"Logistic_Regression_Dataset.csv\", sep = \";\")"
   ]
  }
 ],
 "metadata": {
  "kernelspec": {
   "display_name": "Python 3",
   "language": "python",
   "name": "python3"
  },
  "language_info": {
   "codemirror_mode": {
    "name": "ipython",
    "version": 3
   },
   "file_extension": ".py",
   "mimetype": "text/x-python",
   "name": "python",
   "nbconvert_exporter": "python",
   "pygments_lexer": "ipython3",
   "version": "3.6.6"
  }
 },
 "nbformat": 4,
 "nbformat_minor": 2
}
